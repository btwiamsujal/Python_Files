{
  "nbformat": 4,
  "nbformat_minor": 0,
  "metadata": {
    "colab": {
      "provenance": [],
      "authorship_tag": "ABX9TyPFW7xGjAeB60DDzsPN7x1G",
      "include_colab_link": true
    },
    "kernelspec": {
      "name": "python3",
      "display_name": "Python 3"
    },
    "language_info": {
      "name": "python"
    }
  },
  "cells": [
    {
      "cell_type": "markdown",
      "metadata": {
        "id": "view-in-github",
        "colab_type": "text"
      },
      "source": [
        "<a href=\"https://colab.research.google.com/github/btwiamsujal/Python_Files/blob/main/E_commerce_Inventory_Management.ipynb\" target=\"_parent\"><img src=\"https://colab.research.google.com/assets/colab-badge.svg\" alt=\"Open In Colab\"/></a>"
      ]
    },
    {
      "source": [
        "#hill Climb algorithm\n",
        "annual_demand = int(input(\"Enter the annual demand(D): \"))\n",
        "holding_cost = float(input(\"Enter the holding cost per unit(H): \"))\n",
        "ordering_cost = float(input(\"Enter the ordering cost per order(S): \"))\n",
        "intial_Q = int(input(\"Enter the intial order quantity(Q): \"))\n",
        "step_size = int(input(\"Enter the step size for optimization: \"))\n",
        "\n",
        "def total_cost(Q): # Added Q as an argument\n",
        "  ordering_cost_part = (annual_demand/Q) * ordering_cost\n",
        "  holding_cost_part = (Q/2) * holding_cost\n",
        "  return ordering_cost_part + holding_cost_part\n",
        "\n",
        "def hill_climb(intial_Q, step_size): # Added intial_Q and step_size as arguments\n",
        "  currunt_Q = intial_Q\n",
        "  currunt_cost = total_cost(currunt_Q)\n",
        "\n",
        "  while True:\n",
        "    #Evaluate neighbour\n",
        "    next_Q_up = currunt_Q + step_size\n",
        "    next_Q_down = currunt_Q - step_size\n",
        "\n",
        "    next_cost_up = total_cost(next_Q_up)\n",
        "    next_cost_down = total_cost(next_Q_down)\n",
        "\n",
        "    # cheak if neighbour have lower cost\n",
        "    if next_cost_up < currunt_cost:\n",
        "      currunt_Q, currunt_cost = next_Q_up, next_cost_up\n",
        "    elif next_cost_down < currunt_cost:\n",
        "      currunt_Q, currunt_cost = next_Q_down, next_cost_down\n",
        "    else:\n",
        "      # No improvement terminate\n",
        "      break\n",
        "  return currunt_Q, currunt_cost\n",
        "\n",
        "optimal_Q, optimal_cost = hill_climb(intial_Q,step_size)\n",
        "print(f\"Optimal order quantity: {optimal_Q}\")\n",
        "print(f\"Optimal total cost: {optimal_cost:.2f}\")"
      ],
      "cell_type": "code",
      "metadata": {
        "colab": {
          "base_uri": "https://localhost:8080/"
        },
        "id": "lQcN2zZi5IVF",
        "outputId": "499d4bc2-f8d8-4752-c1ac-097fafb752cb"
      },
      "execution_count": null,
      "outputs": [
        {
          "output_type": "stream",
          "name": "stdout",
          "text": [
            "Enter the annual demand(D): 1709\n",
            "Enter the holding cost per unit(H): 6\n",
            "Enter the ordering cost per order(S): 17\n",
            "Enter the intial order quantity(Q): 92\n",
            "Enter the step size for optimization: 1\n",
            "Optimal order quantity: 98\n",
            "Optimal total cost: 590.46\n"
          ]
        }
      ]
    },
    {
      "cell_type": "code",
      "source": [
        "#Best fast search\n",
        "annual_demand = int(input(\"Enter the annual demand(D): \"))\n",
        "holding_cost = float(input(\"Enter the holding cost per unit(H): \"))\n",
        "ordering_cost = float(input(\"Enter the ordering cost per order(S): \"))\n",
        "intial_Q = int(input(\"Enter the intial order quantity(Q): \"))\n",
        "step_size = int(input(\"Enter the step size for optimization: \"))\n",
        "\n",
        "def total_cost(Q): # Added Q as an argument\n",
        "  ordering_cost_part = (annual_demand/Q) * ordering_cost\n",
        "  holding_cost_part = (Q/2) * holding_cost\n",
        "  return ordering_cost_part + holding_cost_part\n",
        "\n",
        "def best_first_search(intial_Q, step_size): # Added intial_Q and step_size as arguments\n",
        "  currunt_Q = intial_Q\n",
        "  currunt_cost = total_cost(currunt_Q)\n",
        "\n",
        "  while True:\n",
        "    #Generrate neighbour\n",
        "    neighbors = [currunt_Q + step_size, currunt_Q - step_size]\n",
        "\n",
        "    #Evaluate neighbours\n",
        "    costs = {Q: total_cost(Q) for Q in neighbors if Q > 0}\n",
        "\n",
        "    #find best neighbors\n",
        "    best_Q = min(costs, key=costs.get)\n",
        "    best_cost = costs[best_Q]\n",
        "\n",
        "    #if no improvement terminate\n",
        "    if best_cost >= currunt_cost:\n",
        "      break\n",
        "\n",
        "    #update current state\n",
        "    currunt_Q, currunt_cost = best_Q, best_cost\n",
        "\n",
        "  return currunt_Q, currunt_cost\n",
        "\n",
        "optimal_Q, optimal_cost = best_first_search(intial_Q, step_size)\n",
        "print(f\"Optimal order quantity: {optimal_Q}\")\n",
        "print(f\"Optimal total cost: {optimal_cost:.2f}\")"
      ],
      "metadata": {
        "colab": {
          "base_uri": "https://localhost:8080/"
        },
        "id": "domSwC8T6Q58",
        "outputId": "04311ce7-12f2-42f2-e6de-92259eb289ec"
      },
      "execution_count": null,
      "outputs": [
        {
          "output_type": "stream",
          "name": "stdout",
          "text": [
            "Enter the annual demand(D): 1709\n",
            "Enter the holding cost per unit(H): 6\n",
            "Enter the ordering cost per order(S): 17\n",
            "Enter the intial order quantity(Q): 92\n",
            "Enter the step size for optimization: 1\n",
            "Optimal order quantity: 98\n",
            "Optimal total cost: 590.46\n"
          ]
        }
      ]
    }
  ]
}